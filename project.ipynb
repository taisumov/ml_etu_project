{
 "cells": [
  {
   "cell_type": "code",
   "execution_count": 1,
   "id": "78b989ec",
   "metadata": {},
   "outputs": [
    {
     "name": "stderr",
     "output_type": "stream",
     "text": [
      "C:\\Users\\User\\AppData\\Local\\Temp\\ipykernel_14404\\2591018130.py:9: DtypeWarning: Columns (0,10,15,16,23,24) have mixed types. Specify dtype option on import or set low_memory=False.\n",
      "  df = pd.DataFrame(pd.read_csv('C:/Users/User/Desktop/MO_project/Asteroid_Updated.csv'))\n"
     ]
    },
    {
     "data": {
      "text/html": [
       "<div>\n",
       "<style scoped>\n",
       "    .dataframe tbody tr th:only-of-type {\n",
       "        vertical-align: middle;\n",
       "    }\n",
       "\n",
       "    .dataframe tbody tr th {\n",
       "        vertical-align: top;\n",
       "    }\n",
       "\n",
       "    .dataframe thead th {\n",
       "        text-align: right;\n",
       "    }\n",
       "</style>\n",
       "<table border=\"1\" class=\"dataframe\">\n",
       "  <thead>\n",
       "    <tr style=\"text-align: right;\">\n",
       "      <th></th>\n",
       "      <th>name</th>\n",
       "      <th>a</th>\n",
       "      <th>e</th>\n",
       "      <th>i</th>\n",
       "      <th>om</th>\n",
       "      <th>w</th>\n",
       "      <th>q</th>\n",
       "      <th>ad</th>\n",
       "      <th>per_y</th>\n",
       "      <th>data_arc</th>\n",
       "      <th>...</th>\n",
       "      <th>UB</th>\n",
       "      <th>IR</th>\n",
       "      <th>spec_B</th>\n",
       "      <th>spec_T</th>\n",
       "      <th>G</th>\n",
       "      <th>moid</th>\n",
       "      <th>class</th>\n",
       "      <th>n</th>\n",
       "      <th>per</th>\n",
       "      <th>ma</th>\n",
       "    </tr>\n",
       "  </thead>\n",
       "  <tbody>\n",
       "    <tr>\n",
       "      <th>0</th>\n",
       "      <td>Ceres</td>\n",
       "      <td>2.769165</td>\n",
       "      <td>0.076009</td>\n",
       "      <td>10.594067</td>\n",
       "      <td>80.305532</td>\n",
       "      <td>73.597694</td>\n",
       "      <td>2.558684</td>\n",
       "      <td>2.979647</td>\n",
       "      <td>4.608202</td>\n",
       "      <td>8822.0</td>\n",
       "      <td>...</td>\n",
       "      <td>0.426</td>\n",
       "      <td>NaN</td>\n",
       "      <td>C</td>\n",
       "      <td>G</td>\n",
       "      <td>0.12</td>\n",
       "      <td>1.594780</td>\n",
       "      <td>MBA</td>\n",
       "      <td>0.213885</td>\n",
       "      <td>1683.145708</td>\n",
       "      <td>77.372096</td>\n",
       "    </tr>\n",
       "    <tr>\n",
       "      <th>1</th>\n",
       "      <td>Pallas</td>\n",
       "      <td>2.772466</td>\n",
       "      <td>0.230337</td>\n",
       "      <td>34.836234</td>\n",
       "      <td>173.080063</td>\n",
       "      <td>310.048857</td>\n",
       "      <td>2.133865</td>\n",
       "      <td>3.411067</td>\n",
       "      <td>4.616444</td>\n",
       "      <td>72318.0</td>\n",
       "      <td>...</td>\n",
       "      <td>0.284</td>\n",
       "      <td>NaN</td>\n",
       "      <td>B</td>\n",
       "      <td>B</td>\n",
       "      <td>0.11</td>\n",
       "      <td>1.233240</td>\n",
       "      <td>MBA</td>\n",
       "      <td>0.213503</td>\n",
       "      <td>1686.155999</td>\n",
       "      <td>59.699133</td>\n",
       "    </tr>\n",
       "    <tr>\n",
       "      <th>2</th>\n",
       "      <td>Juno</td>\n",
       "      <td>2.669150</td>\n",
       "      <td>0.256942</td>\n",
       "      <td>12.988919</td>\n",
       "      <td>169.852760</td>\n",
       "      <td>248.138626</td>\n",
       "      <td>1.983332</td>\n",
       "      <td>3.354967</td>\n",
       "      <td>4.360814</td>\n",
       "      <td>72684.0</td>\n",
       "      <td>...</td>\n",
       "      <td>0.433</td>\n",
       "      <td>NaN</td>\n",
       "      <td>Sk</td>\n",
       "      <td>S</td>\n",
       "      <td>0.32</td>\n",
       "      <td>1.034540</td>\n",
       "      <td>MBA</td>\n",
       "      <td>0.226019</td>\n",
       "      <td>1592.787285</td>\n",
       "      <td>34.925016</td>\n",
       "    </tr>\n",
       "    <tr>\n",
       "      <th>3</th>\n",
       "      <td>Vesta</td>\n",
       "      <td>2.361418</td>\n",
       "      <td>0.088721</td>\n",
       "      <td>7.141771</td>\n",
       "      <td>103.810804</td>\n",
       "      <td>150.728541</td>\n",
       "      <td>2.151909</td>\n",
       "      <td>2.570926</td>\n",
       "      <td>3.628837</td>\n",
       "      <td>24288.0</td>\n",
       "      <td>...</td>\n",
       "      <td>0.492</td>\n",
       "      <td>NaN</td>\n",
       "      <td>V</td>\n",
       "      <td>V</td>\n",
       "      <td>0.32</td>\n",
       "      <td>1.139480</td>\n",
       "      <td>MBA</td>\n",
       "      <td>0.271609</td>\n",
       "      <td>1325.432765</td>\n",
       "      <td>95.861936</td>\n",
       "    </tr>\n",
       "    <tr>\n",
       "      <th>4</th>\n",
       "      <td>Astraea</td>\n",
       "      <td>2.574249</td>\n",
       "      <td>0.191095</td>\n",
       "      <td>5.366988</td>\n",
       "      <td>141.576605</td>\n",
       "      <td>358.687607</td>\n",
       "      <td>2.082324</td>\n",
       "      <td>3.066174</td>\n",
       "      <td>4.130323</td>\n",
       "      <td>63507.0</td>\n",
       "      <td>...</td>\n",
       "      <td>0.411</td>\n",
       "      <td>NaN</td>\n",
       "      <td>S</td>\n",
       "      <td>S</td>\n",
       "      <td>NaN</td>\n",
       "      <td>1.095890</td>\n",
       "      <td>MBA</td>\n",
       "      <td>0.238632</td>\n",
       "      <td>1508.600458</td>\n",
       "      <td>282.366289</td>\n",
       "    </tr>\n",
       "    <tr>\n",
       "      <th>...</th>\n",
       "      <td>...</td>\n",
       "      <td>...</td>\n",
       "      <td>...</td>\n",
       "      <td>...</td>\n",
       "      <td>...</td>\n",
       "      <td>...</td>\n",
       "      <td>...</td>\n",
       "      <td>...</td>\n",
       "      <td>...</td>\n",
       "      <td>...</td>\n",
       "      <td>...</td>\n",
       "      <td>...</td>\n",
       "      <td>...</td>\n",
       "      <td>...</td>\n",
       "      <td>...</td>\n",
       "      <td>...</td>\n",
       "      <td>...</td>\n",
       "      <td>...</td>\n",
       "      <td>...</td>\n",
       "      <td>...</td>\n",
       "      <td>...</td>\n",
       "    </tr>\n",
       "    <tr>\n",
       "      <th>839709</th>\n",
       "      <td>NaN</td>\n",
       "      <td>2.812945</td>\n",
       "      <td>0.664688</td>\n",
       "      <td>4.695700</td>\n",
       "      <td>183.310012</td>\n",
       "      <td>234.618352</td>\n",
       "      <td>0.943214</td>\n",
       "      <td>4.682676</td>\n",
       "      <td>4.717914</td>\n",
       "      <td>17298.0</td>\n",
       "      <td>...</td>\n",
       "      <td>NaN</td>\n",
       "      <td>NaN</td>\n",
       "      <td>NaN</td>\n",
       "      <td>NaN</td>\n",
       "      <td>NaN</td>\n",
       "      <td>0.032397</td>\n",
       "      <td>APO</td>\n",
       "      <td>0.208911</td>\n",
       "      <td>1723.217927</td>\n",
       "      <td>156.905910</td>\n",
       "    </tr>\n",
       "    <tr>\n",
       "      <th>839710</th>\n",
       "      <td>NaN</td>\n",
       "      <td>2.645238</td>\n",
       "      <td>0.259376</td>\n",
       "      <td>12.574937</td>\n",
       "      <td>1.620020</td>\n",
       "      <td>339.568072</td>\n",
       "      <td>1.959126</td>\n",
       "      <td>3.331350</td>\n",
       "      <td>4.302346</td>\n",
       "      <td>16.0</td>\n",
       "      <td>...</td>\n",
       "      <td>NaN</td>\n",
       "      <td>NaN</td>\n",
       "      <td>NaN</td>\n",
       "      <td>NaN</td>\n",
       "      <td>NaN</td>\n",
       "      <td>0.956145</td>\n",
       "      <td>MBA</td>\n",
       "      <td>0.229090</td>\n",
       "      <td>1571.431965</td>\n",
       "      <td>13.366251</td>\n",
       "    </tr>\n",
       "    <tr>\n",
       "      <th>839711</th>\n",
       "      <td>NaN</td>\n",
       "      <td>2.373137</td>\n",
       "      <td>0.202053</td>\n",
       "      <td>0.732484</td>\n",
       "      <td>176.499082</td>\n",
       "      <td>198.026527</td>\n",
       "      <td>1.893638</td>\n",
       "      <td>2.852636</td>\n",
       "      <td>3.655884</td>\n",
       "      <td>5.0</td>\n",
       "      <td>...</td>\n",
       "      <td>NaN</td>\n",
       "      <td>NaN</td>\n",
       "      <td>NaN</td>\n",
       "      <td>NaN</td>\n",
       "      <td>NaN</td>\n",
       "      <td>0.893896</td>\n",
       "      <td>MBA</td>\n",
       "      <td>0.269600</td>\n",
       "      <td>1335.311579</td>\n",
       "      <td>355.351127</td>\n",
       "    </tr>\n",
       "    <tr>\n",
       "      <th>839712</th>\n",
       "      <td>NaN</td>\n",
       "      <td>2.260404</td>\n",
       "      <td>0.258348</td>\n",
       "      <td>9.661947</td>\n",
       "      <td>204.512448</td>\n",
       "      <td>148.496988</td>\n",
       "      <td>1.676433</td>\n",
       "      <td>2.844376</td>\n",
       "      <td>3.398501</td>\n",
       "      <td>10.0</td>\n",
       "      <td>...</td>\n",
       "      <td>NaN</td>\n",
       "      <td>NaN</td>\n",
       "      <td>NaN</td>\n",
       "      <td>NaN</td>\n",
       "      <td>NaN</td>\n",
       "      <td>0.680220</td>\n",
       "      <td>MBA</td>\n",
       "      <td>0.290018</td>\n",
       "      <td>1241.302609</td>\n",
       "      <td>15.320134</td>\n",
       "    </tr>\n",
       "    <tr>\n",
       "      <th>839713</th>\n",
       "      <td>NaN</td>\n",
       "      <td>2.546442</td>\n",
       "      <td>0.287672</td>\n",
       "      <td>5.356238</td>\n",
       "      <td>70.709555</td>\n",
       "      <td>273.483265</td>\n",
       "      <td>1.813901</td>\n",
       "      <td>3.278983</td>\n",
       "      <td>4.063580</td>\n",
       "      <td>11.0</td>\n",
       "      <td>...</td>\n",
       "      <td>NaN</td>\n",
       "      <td>NaN</td>\n",
       "      <td>NaN</td>\n",
       "      <td>NaN</td>\n",
       "      <td>NaN</td>\n",
       "      <td>0.815280</td>\n",
       "      <td>MBA</td>\n",
       "      <td>0.242551</td>\n",
       "      <td>1484.222588</td>\n",
       "      <td>20.432959</td>\n",
       "    </tr>\n",
       "  </tbody>\n",
       "</table>\n",
       "<p>839714 rows × 31 columns</p>\n",
       "</div>"
      ],
      "text/plain": [
       "           name         a         e          i          om           w  \\\n",
       "0         Ceres  2.769165  0.076009  10.594067   80.305532   73.597694   \n",
       "1        Pallas  2.772466  0.230337  34.836234  173.080063  310.048857   \n",
       "2          Juno  2.669150  0.256942  12.988919  169.852760  248.138626   \n",
       "3         Vesta  2.361418  0.088721   7.141771  103.810804  150.728541   \n",
       "4       Astraea  2.574249  0.191095   5.366988  141.576605  358.687607   \n",
       "...         ...       ...       ...        ...         ...         ...   \n",
       "839709      NaN  2.812945  0.664688   4.695700  183.310012  234.618352   \n",
       "839710      NaN  2.645238  0.259376  12.574937    1.620020  339.568072   \n",
       "839711      NaN  2.373137  0.202053   0.732484  176.499082  198.026527   \n",
       "839712      NaN  2.260404  0.258348   9.661947  204.512448  148.496988   \n",
       "839713      NaN  2.546442  0.287672   5.356238   70.709555  273.483265   \n",
       "\n",
       "               q        ad     per_y  data_arc  ...     UB  IR  spec_B spec_T  \\\n",
       "0       2.558684  2.979647  4.608202    8822.0  ...  0.426 NaN       C      G   \n",
       "1       2.133865  3.411067  4.616444   72318.0  ...  0.284 NaN       B      B   \n",
       "2       1.983332  3.354967  4.360814   72684.0  ...  0.433 NaN      Sk      S   \n",
       "3       2.151909  2.570926  3.628837   24288.0  ...  0.492 NaN       V      V   \n",
       "4       2.082324  3.066174  4.130323   63507.0  ...  0.411 NaN       S      S   \n",
       "...          ...       ...       ...       ...  ...    ...  ..     ...    ...   \n",
       "839709  0.943214  4.682676  4.717914   17298.0  ...    NaN NaN     NaN    NaN   \n",
       "839710  1.959126  3.331350  4.302346      16.0  ...    NaN NaN     NaN    NaN   \n",
       "839711  1.893638  2.852636  3.655884       5.0  ...    NaN NaN     NaN    NaN   \n",
       "839712  1.676433  2.844376  3.398501      10.0  ...    NaN NaN     NaN    NaN   \n",
       "839713  1.813901  3.278983  4.063580      11.0  ...    NaN NaN     NaN    NaN   \n",
       "\n",
       "           G      moid class         n          per          ma  \n",
       "0       0.12  1.594780   MBA  0.213885  1683.145708   77.372096  \n",
       "1       0.11  1.233240   MBA  0.213503  1686.155999   59.699133  \n",
       "2       0.32  1.034540   MBA  0.226019  1592.787285   34.925016  \n",
       "3       0.32  1.139480   MBA  0.271609  1325.432765   95.861936  \n",
       "4        NaN  1.095890   MBA  0.238632  1508.600458  282.366289  \n",
       "...      ...       ...   ...       ...          ...         ...  \n",
       "839709   NaN  0.032397   APO  0.208911  1723.217927  156.905910  \n",
       "839710   NaN  0.956145   MBA  0.229090  1571.431965   13.366251  \n",
       "839711   NaN  0.893896   MBA  0.269600  1335.311579  355.351127  \n",
       "839712   NaN  0.680220   MBA  0.290018  1241.302609   15.320134  \n",
       "839713   NaN  0.815280   MBA  0.242551  1484.222588   20.432959  \n",
       "\n",
       "[839714 rows x 31 columns]"
      ]
     },
     "execution_count": 1,
     "metadata": {},
     "output_type": "execute_result"
    }
   ],
   "source": [
    "import pandas as pd \n",
    "import numpy as np \n",
    "import seaborn as sns \n",
    "import matplotlib.pyplot as plt \n",
    "\n",
    "from sklearn import preprocessing \n",
    "from sklearn.model_selection import train_test_split\n",
    "\n",
    "df = pd.DataFrame(pd.read_csv('C:/Users/User/Desktop/MO_project/Asteroid_Updated.csv'))\n",
    "df"
   ]
  },
  {
   "cell_type": "code",
   "execution_count": 2,
   "id": "b1e0ab79",
   "metadata": {},
   "outputs": [
    {
     "data": {
      "text/plain": [
       "<bound method NDFrame.head of                  Total   Percent\n",
       "IR              839713  0.999999\n",
       "GM              839700  0.999983\n",
       "extent          839696  0.999979\n",
       "G               839595  0.999858\n",
       "UB              838735  0.998834\n",
       "spec_T          838734  0.998833\n",
       "BV              838693  0.998784\n",
       "spec_B          838048  0.998016\n",
       "rot_per         820918  0.977616\n",
       "name            817747  0.973840\n",
       "albedo          703305  0.837553\n",
       "diameter        702078  0.836092\n",
       "pha              16442  0.019580\n",
       "moid             16442  0.019580\n",
       "data_arc         15474  0.018428\n",
       "H                 2689  0.003202\n",
       "condition_code     867  0.001032\n",
       "ma                   8  0.000010\n",
       "ad                   6  0.000007\n",
       "neo                  6  0.000007\n",
       "per                  6  0.000007\n",
       "a                    2  0.000002\n",
       "n                    2  0.000002\n",
       "per_y                1  0.000001\n",
       "n_obs_used           0  0.000000\n",
       "w                    0  0.000000\n",
       "om                   0  0.000000\n",
       "i                    0  0.000000\n",
       "e                    0  0.000000\n",
       "class                0  0.000000\n",
       "q                    0  0.000000>"
      ]
     },
     "execution_count": 2,
     "metadata": {},
     "output_type": "execute_result"
    }
   ],
   "source": [
    "total = df.isnull().sum().sort_values(ascending=False)\n",
    "percent = (df.isnull().sum()/df.isnull().count()).sort_values(ascending=False)\n",
    "missing_data = pd.concat([total, percent], axis=1, keys=['Total', 'Percent'])\n",
    "missing_data.head\n",
    "\n"
   ]
  },
  {
   "cell_type": "code",
   "execution_count": 3,
   "id": "f2274ffc",
   "metadata": {},
   "outputs": [
    {
     "data": {
      "text/plain": [
       "<bound method NDFrame.head of             Total  Percent\n",
       "a               0      0.0\n",
       "e               0      0.0\n",
       "per             0      0.0\n",
       "n               0      0.0\n",
       "moid            0      0.0\n",
       "rot_per         0      0.0\n",
       "albedo          0      0.0\n",
       "diameter        0      0.0\n",
       "H               0      0.0\n",
       "n_obs_used      0      0.0\n",
       "data_arc        0      0.0\n",
       "per_y           0      0.0\n",
       "ad              0      0.0\n",
       "q               0      0.0\n",
       "w               0      0.0\n",
       "om              0      0.0\n",
       "i               0      0.0\n",
       "ma              0      0.0>"
      ]
     },
     "execution_count": 3,
     "metadata": {},
     "output_type": "execute_result"
    }
   ],
   "source": [
    "columns=['a', 'e', 'i', 'om', 'w', 'q', 'ad', 'per_y', 'data_arc', 'n_obs_used', 'H', 'diameter', 'albedo', 'rot_per', 'moid','n', 'per', 'ma']\n",
    "df = df[columns]\n",
    "\n",
    "df = df.dropna(subset=[\"diameter\", \"rot_per\"]) \n",
    "df = df[pd.to_numeric(df['diameter'], errors='coerce').notnull()]\n",
    "df = df.dropna(subset=[\"albedo\"])\n",
    "total = df.isnull().sum().sort_values(ascending=False)\n",
    "percent = (df.isnull().sum()/df.isnull().count()).sort_values(ascending=False)\n",
    "missing_data = pd.concat([total, percent], axis=1, keys=['Total', 'Percent'])\n",
    "missing_data.head"
   ]
  },
  {
   "cell_type": "code",
   "execution_count": 4,
   "id": "58b9adc4",
   "metadata": {},
   "outputs": [
    {
     "name": "stderr",
     "output_type": "stream",
     "text": [
      "C:\\Users\\User\\AppData\\Local\\Temp\\ipykernel_14404\\885963498.py:1: FutureWarning: The default value of numeric_only in DataFrame.corr is deprecated. In a future version, it will default to False. Select only valid columns or specify the value of numeric_only to silence this warning.\n",
      "  upp_mat = np.triu(df.corr())\n",
      "C:\\Users\\User\\AppData\\Local\\Temp\\ipykernel_14404\\885963498.py:2: FutureWarning: The default value of numeric_only in DataFrame.corr is deprecated. In a future version, it will default to False. Select only valid columns or specify the value of numeric_only to silence this warning.\n",
      "  sns.heatmap(df.corr(), vmin = -1, vmax = +1, )\n"
     ]
    },
    {
     "data": {
      "text/plain": [
       "<AxesSubplot: >"
      ]
     },
     "execution_count": 4,
     "metadata": {},
     "output_type": "execute_result"
    },
    {
     "data": {
      "image/png": "[encoded data removed]",
      "text/plain": [
       "<Figure size 640x480 with 2 Axes>"
      ]
     },
     "metadata": {},
     "output_type": "display_data"
    }
   ],
   "source": [
    "upp_mat = np.triu(df.corr())\n",
    "sns.heatmap(df.corr(), vmin = -1, vmax = +1, )"
   ]
  },
  {
   "cell_type": "code",
   "execution_count": 5,
   "id": "8da4209b",
   "metadata": {},
   "outputs": [
    {
     "data": {
      "image/png": "[encoded data removed]",
      "text/plain": [
       "<Figure size 1600x1000 with 17 Axes>"
      ]
     },
     "metadata": {},
     "output_type": "display_data"
    }
   ],
   "source": [
    "temp=list(df.columns)\n",
    "a=np.arange(1,int(len(temp)),1)\n",
    "\n",
    "plt.figure(figsize=(16,10))\n",
    "for i,j in zip(temp,a):\n",
    "    plt.subplot(4,8,j)\n",
    "    sns.boxplot(df[i])\n",
    "    plt.title(temp[j-1])\n",
    "    plt.tight_layout(pad=2, h_pad=4, w_pad=4, rect=None)"
   ]
  },
  {
   "cell_type": "code",
   "execution_count": 6,
   "id": "3e34d625",
   "metadata": {},
   "outputs": [],
   "source": [
    "df[\"a\"] = df[\"a\"].apply(lambda x: 25 if x>25 else x)\n",
    "df[\"e\"] = df[\"e\"].apply(lambda x: 0.75 if x>0.75 else x)\n",
    "df[\"i\"] = df[\"i\"].apply(lambda x: 75 if x>75 else x)\n",
    "df[\"q\"] = df[\"q\"].apply(lambda x: 20 if x>20 else x)\n",
    "df[\"ad\"] = df[\"ad\"].apply(lambda x: 30 if x>30 else x)\n",
    "df[\"per_y\"] = df[\"per_y\"].apply(lambda x: 150 if x>150 else x)\n",
    "df[\"data_arc\"] = df[\"data_arc\"].apply(lambda x: 60000 if x>60000 else x)\n",
    "df[\"n_obs_used\"] = df[\"n_obs_used\"].apply(lambda x: 7500 if x>7500 else x)\n",
    "df[\"H\"] = df[\"H\"].apply(lambda x: 23 if x>23 else x)\n",
    "df[\"H\"] = df[\"H\"].apply(lambda x: 5 if x<5 else x)\n",
    "df[\"albedo\"] = df[\"albedo\"].apply(lambda x: 0.6 if x>0.6 else x)\n",
    "df[\"rot_per\"] = df[\"albedo\"].apply(lambda x: 1300 if x>1300 else x)\n",
    "df[\"moid\"] = df[\"albedo\"].apply(lambda x: 20 if x>20 else x)\n",
    "df[\"per\"] = df[\"albedo\"].apply(lambda x: 50000 if x>50000 else x)\n"
   ]
  },
  {
   "cell_type": "code",
   "execution_count": 7,
   "id": "2aaa7c72",
   "metadata": {},
   "outputs": [],
   "source": [
    "df[\"diameter\"] = df[\"diameter\"].map(lambda x: float(x))\n"
   ]
  },
  {
   "cell_type": "code",
   "execution_count": 8,
   "id": "3354cc1d",
   "metadata": {},
   "outputs": [
    {
     "data": {
      "text/plain": [
       "a             float64\n",
       "e             float64\n",
       "i             float64\n",
       "om            float64\n",
       "w             float64\n",
       "q             float64\n",
       "ad            float64\n",
       "per_y         float64\n",
       "data_arc      float64\n",
       "n_obs_used      int64\n",
       "H             float64\n",
       "diameter      float64\n",
       "albedo        float64\n",
       "rot_per       float64\n",
       "moid          float64\n",
       "n             float64\n",
       "per           float64\n",
       "ma            float64\n",
       "dtype: object"
      ]
     },
     "execution_count": 8,
     "metadata": {},
     "output_type": "execute_result"
    }
   ],
   "source": [
    "df.dtypes"
   ]
  },
  {
   "cell_type": "code",
   "execution_count": 9,
   "id": "da86e281",
   "metadata": {},
   "outputs": [],
   "source": [
    "y=df[\"diameter\"]\n",
    "X=df.drop(\"diameter\",axis=1)\n",
    "\n",
    "X_train,X_test,y_train,y_test=train_test_split(X,y,test_size=0.25, random_state=42)"
   ]
  },
  {
   "cell_type": "code",
   "execution_count": 10,
   "id": "46a3ae28",
   "metadata": {},
   "outputs": [],
   "source": [
    "scaler = preprocessing.MinMaxScaler()\n",
    "X_train=scaler.fit_transform(X_train)\n",
    "X_test=scaler.transform(X_test)"
   ]
  },
  {
   "cell_type": "code",
   "execution_count": 11,
   "id": "e43480a0",
   "metadata": {},
   "outputs": [
    {
     "data": {
      "text/plain": [
       "0.6384802657130348"
      ]
     },
     "execution_count": 11,
     "metadata": {},
     "output_type": "execute_result"
    }
   ],
   "source": [
    "from sklearn.linear_model import LinearRegression\n",
    "lr = LinearRegression()\n",
    "\n",
    "lr.fit(X_train,y_train)\n",
    "y_pred = lr.predict(X_test)\n",
    "lr.score(X_train,y_train)"
   ]
  },
  {
   "cell_type": "code",
   "execution_count": 12,
   "id": "6cbb9c1d",
   "metadata": {},
   "outputs": [
    {
     "data": {
      "text/plain": [
       "9.120469368474158"
      ]
     },
     "execution_count": 12,
     "metadata": {},
     "output_type": "execute_result"
    }
   ],
   "source": [
    "from sklearn.metrics import mean_absolute_error\n",
    "mean_absolute_error(y_test, y_pred)"
   ]
  },
  {
   "cell_type": "code",
   "execution_count": 13,
   "id": "ac2a7176",
   "metadata": {},
   "outputs": [
    {
     "data": {
      "text/plain": [
       "0.9242543875287562"
      ]
     },
     "execution_count": 13,
     "metadata": {},
     "output_type": "execute_result"
    }
   ],
   "source": [
    "from sklearn.tree import DecisionTreeRegressor\n",
    "\n",
    "DTR = DecisionTreeRegressor(random_state=200)\n",
    "DTR.fit(X_train, y_train)\n",
    "y_pred = DTR.predict(X_test)\n",
    "\n",
    "DTR.score(X_test, y_test)"
   ]
  },
  {
   "cell_type": "code",
   "execution_count": 14,
   "id": "ba966d19",
   "metadata": {},
   "outputs": [
    {
     "data": {
      "text/plain": [
       "2.032433488705629"
      ]
     },
     "execution_count": 14,
     "metadata": {},
     "output_type": "execute_result"
    }
   ],
   "source": [
    "from sklearn.metrics import mean_absolute_error\n",
    "mean_absolute_error(y_test, y_pred)"
   ]
  },
  {
   "cell_type": "code",
   "execution_count": 15,
   "id": "c7910eac",
   "metadata": {},
   "outputs": [
    {
     "data": {
      "text/plain": [
       "0.9055514853700181"
      ]
     },
     "execution_count": 15,
     "metadata": {},
     "output_type": "execute_result"
    }
   ],
   "source": [
    "from sklearn.ensemble import RandomForestRegressor\n",
    "# \n",
    "RFReg= RandomForestRegressor(n_estimators=10)\n",
    "RFReg.fit(X_train, y_train)\n",
    "y_pred= RFReg.predict(X_test)\n",
    "\n",
    "RFReg.score(X_test, y_test)"
   ]
  },
  {
   "cell_type": "code",
   "execution_count": 16,
   "id": "ed85b92a",
   "metadata": {},
   "outputs": [
    {
     "data": {
      "text/plain": [
       "1.5517184653997849"
      ]
     },
     "execution_count": 16,
     "metadata": {},
     "output_type": "execute_result"
    }
   ],
   "source": [
    "from sklearn.metrics import mean_absolute_error\n",
    "mean_absolute_error(y_test, y_pred)"
   ]
  },
  {
   "cell_type": "code",
   "execution_count": 17,
   "id": "371fea0b",
   "metadata": {},
   "outputs": [
    {
     "name": "stderr",
     "output_type": "stream",
     "text": [
      "C:\\Users\\User\\AppData\\Local\\Programs\\Python\\Python311\\Lib\\site-packages\\xgboost\\sklearn.py:861: UserWarning: `early_stopping_rounds` in `fit` method is deprecated for better compatibility with scikit-learn, use `early_stopping_rounds` in constructor or`set_params` instead.\n",
      "  warnings.warn(\n"
     ]
    },
    {
     "data": {
      "text/plain": [
       "0.9363736715642417"
      ]
     },
     "execution_count": 17,
     "metadata": {},
     "output_type": "execute_result"
    }
   ],
   "source": [
    "from xgboost import XGBRegressor\n",
    "\n",
    "XGBReg = XGBRegressor()\n",
    "eval_set=[(X_test,y_test)]\n",
    "\n",
    "XGBReg.fit(X_train, y_train, eval_set=eval_set, early_stopping_rounds=1000, verbose=0)\n",
    "y_pred = XGBReg.predict(X_test)\n",
    "XGBReg.score(X_test, y_test)"
   ]
  },
  {
   "cell_type": "code",
   "execution_count": 18,
   "id": "461adae6",
   "metadata": {},
   "outputs": [
    {
     "data": {
      "text/plain": [
       "1.4527414142804982"
      ]
     },
     "execution_count": 18,
     "metadata": {},
     "output_type": "execute_result"
    }
   ],
   "source": [
    "from sklearn.metrics import mean_absolute_error\n",
    "mean_absolute_error(y_test, y_pred)"
   ]
  },
  {
   "cell_type": "code",
   "execution_count": 19,
   "id": "647613aa",
   "metadata": {},
   "outputs": [
    {
     "data": {
      "text/html": [
       "<div>\n",
       "<style scoped>\n",
       "    .dataframe tbody tr th:only-of-type {\n",
       "        vertical-align: middle;\n",
       "    }\n",
       "\n",
       "    .dataframe tbody tr th {\n",
       "        vertical-align: top;\n",
       "    }\n",
       "\n",
       "    .dataframe thead th {\n",
       "        text-align: right;\n",
       "    }\n",
       "</style>\n",
       "<table border=\"1\" class=\"dataframe\">\n",
       "  <thead>\n",
       "    <tr style=\"text-align: right;\">\n",
       "      <th></th>\n",
       "      <th>a</th>\n",
       "      <th>e</th>\n",
       "      <th>i</th>\n",
       "      <th>om</th>\n",
       "      <th>w</th>\n",
       "      <th>q</th>\n",
       "      <th>ad</th>\n",
       "      <th>per_y</th>\n",
       "      <th>data_arc</th>\n",
       "      <th>n_obs_used</th>\n",
       "      <th>H</th>\n",
       "      <th>albedo</th>\n",
       "      <th>rot_per</th>\n",
       "      <th>moid</th>\n",
       "      <th>n</th>\n",
       "      <th>per</th>\n",
       "      <th>ma</th>\n",
       "    </tr>\n",
       "  </thead>\n",
       "  <tbody>\n",
       "    <tr>\n",
       "      <th>0</th>\n",
       "      <td>2.769165</td>\n",
       "      <td>0.076009</td>\n",
       "      <td>10.594067</td>\n",
       "      <td>80.305532</td>\n",
       "      <td>73.597694</td>\n",
       "      <td>2.558684</td>\n",
       "      <td>2.979647</td>\n",
       "      <td>4.608202</td>\n",
       "      <td>8822.0</td>\n",
       "      <td>1002</td>\n",
       "      <td>5.00</td>\n",
       "      <td>0.0900</td>\n",
       "      <td>0.0900</td>\n",
       "      <td>0.0900</td>\n",
       "      <td>0.213885</td>\n",
       "      <td>0.0900</td>\n",
       "      <td>77.372096</td>\n",
       "    </tr>\n",
       "    <tr>\n",
       "      <th>1</th>\n",
       "      <td>2.772466</td>\n",
       "      <td>0.230337</td>\n",
       "      <td>34.836234</td>\n",
       "      <td>173.080063</td>\n",
       "      <td>310.048857</td>\n",
       "      <td>2.133865</td>\n",
       "      <td>3.411067</td>\n",
       "      <td>4.616444</td>\n",
       "      <td>60000.0</td>\n",
       "      <td>7500</td>\n",
       "      <td>5.00</td>\n",
       "      <td>0.1010</td>\n",
       "      <td>0.1010</td>\n",
       "      <td>0.1010</td>\n",
       "      <td>0.213503</td>\n",
       "      <td>0.1010</td>\n",
       "      <td>59.699133</td>\n",
       "    </tr>\n",
       "    <tr>\n",
       "      <th>2</th>\n",
       "      <td>2.669150</td>\n",
       "      <td>0.256942</td>\n",
       "      <td>12.988919</td>\n",
       "      <td>169.852760</td>\n",
       "      <td>248.138626</td>\n",
       "      <td>1.983332</td>\n",
       "      <td>3.354967</td>\n",
       "      <td>4.360814</td>\n",
       "      <td>60000.0</td>\n",
       "      <td>7104</td>\n",
       "      <td>5.33</td>\n",
       "      <td>0.2140</td>\n",
       "      <td>0.2140</td>\n",
       "      <td>0.2140</td>\n",
       "      <td>0.226019</td>\n",
       "      <td>0.2140</td>\n",
       "      <td>34.925016</td>\n",
       "    </tr>\n",
       "    <tr>\n",
       "      <th>3</th>\n",
       "      <td>2.361418</td>\n",
       "      <td>0.088721</td>\n",
       "      <td>7.141771</td>\n",
       "      <td>103.810804</td>\n",
       "      <td>150.728541</td>\n",
       "      <td>2.151909</td>\n",
       "      <td>2.570926</td>\n",
       "      <td>3.628837</td>\n",
       "      <td>24288.0</td>\n",
       "      <td>7500</td>\n",
       "      <td>5.00</td>\n",
       "      <td>0.4228</td>\n",
       "      <td>0.4228</td>\n",
       "      <td>0.4228</td>\n",
       "      <td>0.271609</td>\n",
       "      <td>0.4228</td>\n",
       "      <td>95.861936</td>\n",
       "    </tr>\n",
       "    <tr>\n",
       "      <th>4</th>\n",
       "      <td>2.574249</td>\n",
       "      <td>0.191095</td>\n",
       "      <td>5.366988</td>\n",
       "      <td>141.576605</td>\n",
       "      <td>358.687607</td>\n",
       "      <td>2.082324</td>\n",
       "      <td>3.066174</td>\n",
       "      <td>4.130323</td>\n",
       "      <td>60000.0</td>\n",
       "      <td>2916</td>\n",
       "      <td>6.85</td>\n",
       "      <td>0.2740</td>\n",
       "      <td>0.2740</td>\n",
       "      <td>0.2740</td>\n",
       "      <td>0.238632</td>\n",
       "      <td>0.2740</td>\n",
       "      <td>282.366289</td>\n",
       "    </tr>\n",
       "  </tbody>\n",
       "</table>\n",
       "</div>"
      ],
      "text/plain": [
       "          a         e          i          om           w         q        ad  \\\n",
       "0  2.769165  0.076009  10.594067   80.305532   73.597694  2.558684  2.979647   \n",
       "1  2.772466  0.230337  34.836234  173.080063  310.048857  2.133865  3.411067   \n",
       "2  2.669150  0.256942  12.988919  169.852760  248.138626  1.983332  3.354967   \n",
       "3  2.361418  0.088721   7.141771  103.810804  150.728541  2.151909  2.570926   \n",
       "4  2.574249  0.191095   5.366988  141.576605  358.687607  2.082324  3.066174   \n",
       "\n",
       "      per_y  data_arc  n_obs_used     H  albedo  rot_per    moid         n  \\\n",
       "0  4.608202    8822.0        1002  5.00  0.0900   0.0900  0.0900  0.213885   \n",
       "1  4.616444   60000.0        7500  5.00  0.1010   0.1010  0.1010  0.213503   \n",
       "2  4.360814   60000.0        7104  5.33  0.2140   0.2140  0.2140  0.226019   \n",
       "3  3.628837   24288.0        7500  5.00  0.4228   0.4228  0.4228  0.271609   \n",
       "4  4.130323   60000.0        2916  6.85  0.2740   0.2740  0.2740  0.238632   \n",
       "\n",
       "      per          ma  \n",
       "0  0.0900   77.372096  \n",
       "1  0.1010   59.699133  \n",
       "2  0.2140   34.925016  \n",
       "3  0.4228   95.861936  \n",
       "4  0.2740  282.366289  "
      ]
     },
     "execution_count": 19,
     "metadata": {},
     "output_type": "execute_result"
    }
   ],
   "source": [
    "df.drop(\"diameter\",axis=1).head()"
   ]
  },
  {
   "cell_type": "code",
   "execution_count": 20,
   "id": "532e1213",
   "metadata": {},
   "outputs": [
    {
     "data": {
      "image/png": "[encoded data removed]",
      "text/plain": [
       "<Figure size 1000x1000 with 1 Axes>"
      ]
     },
     "metadata": {},
     "output_type": "display_data"
    }
   ],
   "source": [
    "import xgboost as xgb\n",
    "fig, ax = plt.subplots(figsize=(10,10))\n",
    "xgb.plot_importance(XGBReg, height=0.5, ax=ax, importance_type='weight')\n",
    "plt.show()"
   ]
  }
 ],
 "metadata": {
  "kernelspec": {
   "display_name": "Python 3 (ipykernel)",
   "language": "python",
   "name": "python3"
  },
  "language_info": {
   "codemirror_mode": {
    "name": "ipython",
    "version": 3
   },
   "file_extension": ".py",
   "mimetype": "text/x-python",
   "name": "python",
   "nbconvert_exporter": "python",
   "pygments_lexer": "ipython3",
   "version": "3.11.1"
  }
 },
 "nbformat": 4,
 "nbformat_minor": 5
}
